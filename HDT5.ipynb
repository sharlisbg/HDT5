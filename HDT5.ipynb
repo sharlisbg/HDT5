{
 "cells": [
  {
   "cell_type": "code",
   "execution_count": 1,
   "id": "546ff457",
   "metadata": {},
   "outputs": [],
   "source": [
    "# importamos simpy\n",
    "import simpy\n",
    "# importamos random\n",
    "import random"
   ]
  },
  {
   "cell_type": "code",
   "execution_count": 2,
   "id": "9ee96764",
   "metadata": {},
   "outputs": [],
   "source": [
    "import pandas as pd"
   ]
  },
  {
   "cell_type": "markdown",
   "id": "d8bb6d1a",
   "metadata": {},
   "source": [
    "# Primera Simulación con 25 procesos"
   ]
  },
  {
   "cell_type": "code",
   "execution_count": 3,
   "id": "cfab09f5",
   "metadata": {},
   "outputs": [],
   "source": [
    "# creamos una lista para guardar los datos\n",
    "lista = []"
   ]
  },
  {
   "cell_type": "code",
   "execution_count": 4,
   "id": "5e2ad5ae",
   "metadata": {},
   "outputs": [],
   "source": [
    "# definimos los programas\n",
    "def Programa(nombre, env, creacionproceso, CPU):\n",
    "    # damos un tiempo random antes de llegar al cpu\n",
    "    yield env.timeout(creacionproceso)\n",
    "    # llegada al cpu\n",
    "    horallegada = env.now\n",
    "    # definimos el runtime con un random entre 1 y 10\n",
    "    runtime = random.randint(1,11)\n",
    "    # mostramos un mensaje al usuario con los detalles\n",
    "    print('%s llega a las %f y requiere %d instrucciones'%(nombre, horallegada,runtime))\n",
    "    # solicitamos el cpu\n",
    "    with CPU.request() as turno:\n",
    "        #produce la solicitud\n",
    "        yield turno\n",
    "        # completa las instrcciones en el cpu \n",
    "        yield env.timeout(runtime)\n",
    "        # guardamos la hora de salida\n",
    "        horasalida = env.now\n",
    "        # desplegamos un mensaje al usuario\n",
    "        print('%s sale del cpu a las %f'%(nombre, horasalida))\n",
    "    \n",
    "    # calculamos el tiempo total para completar el proceso\n",
    "    tiempototal = horasalida-horallegada\n",
    "    # agregamos el tiempo total a la lista \n",
    "    lista.append(tiempototal)\n",
    "        \n",
    "    \n",
    "    "
   ]
  },
  {
   "cell_type": "code",
   "execution_count": 5,
   "id": "43fc9718",
   "metadata": {},
   "outputs": [],
   "source": [
    "# creamos el ambiente \n",
    "env = simpy.Environment()\n",
    "# creamos el recurso CPU \n",
    "CPU = simpy.Resource(env, capacity =1)\n",
    "# random seed\n",
    "random.seed(10)"
   ]
  },
  {
   "cell_type": "code",
   "execution_count": 6,
   "id": "3ea06a32",
   "metadata": {},
   "outputs": [
    {
     "name": "stdout",
     "output_type": "stream",
     "text": [
      "Programa numero 13 llega a las 0.455795 y requiere 8 instrucciones\n",
      "Programa numero 22 llega a las 1.426911 y requiere 10 instrucciones\n",
      "Programa numero 7 llega a las 1.746267 y requiere 7 instrucciones\n",
      "Programa numero 3 llega a las 2.307955 y requiere 1 instrucciones\n",
      "Programa numero 10 llega a las 2.876776 y requiere 10 instrucciones\n",
      "Programa numero 17 llega a las 3.335420 y requiere 1 instrucciones\n",
      "Programa numero 9 llega a las 3.971589 y requiere 4 instrucciones\n",
      "Programa numero 16 llega a las 4.806295 y requiere 3 instrucciones\n",
      "Programa numero 1 llega a las 5.601718 y requiere 4 instrucciones\n",
      "Programa numero 19 llega a las 6.103351 y requiere 5 instrucciones\n",
      "Programa numero 8 llega a las 7.353646 y requiere 9 instrucciones\n",
      "Programa numero 13 sale del cpu a las 8.455795\n",
      "Programa numero 0 llega a las 8.472372 y requiere 6 instrucciones\n",
      "Programa numero 2 llega a las 8.629663 y requiere 4 instrucciones\n",
      "Programa numero 15 llega a las 9.242992 y requiere 6 instrucciones\n",
      "Programa numero 6 llega a las 10.597932 y requiere 11 instrucciones\n",
      "Programa numero 21 llega a las 10.842548 y requiere 9 instrucciones\n",
      "Programa numero 18 llega a las 11.238219 y requiere 8 instrucciones\n",
      "Programa numero 20 llega a las 11.579213 y requiere 7 instrucciones\n",
      "Programa numero 23 llega a las 14.603191 y requiere 8 instrucciones\n",
      "Programa numero 4 llega a las 16.783661 y requiere 2 instrucciones\n",
      "Programa numero 5 llega a las 17.349381 y requiere 11 instrucciones\n",
      "Programa numero 22 sale del cpu a las 18.455795\n",
      "Programa numero 14 llega a las 19.672638 y requiere 10 instrucciones\n",
      "Programa numero 7 sale del cpu a las 25.455795\n",
      "Programa numero 3 sale del cpu a las 26.455795\n",
      "Programa numero 11 llega a las 30.537197 y requiere 6 instrucciones\n",
      "Programa numero 10 sale del cpu a las 36.455795\n",
      "Programa numero 17 sale del cpu a las 37.455795\n",
      "Programa numero 24 llega a las 40.406094 y requiere 9 instrucciones\n",
      "Programa numero 9 sale del cpu a las 41.455795\n",
      "Programa numero 16 sale del cpu a las 44.455795\n",
      "Programa numero 1 sale del cpu a las 48.455795\n",
      "Programa numero 19 sale del cpu a las 53.455795\n",
      "Programa numero 12 llega a las 56.714099 y requiere 3 instrucciones\n",
      "Programa numero 8 sale del cpu a las 62.455795\n",
      "Programa numero 0 sale del cpu a las 68.455795\n",
      "Programa numero 2 sale del cpu a las 72.455795\n",
      "Programa numero 15 sale del cpu a las 78.455795\n",
      "Programa numero 6 sale del cpu a las 89.455795\n",
      "Programa numero 21 sale del cpu a las 98.455795\n",
      "Programa numero 18 sale del cpu a las 106.455795\n",
      "Programa numero 20 sale del cpu a las 113.455795\n",
      "Programa numero 23 sale del cpu a las 121.455795\n",
      "Programa numero 4 sale del cpu a las 123.455795\n",
      "Programa numero 5 sale del cpu a las 134.455795\n",
      "Programa numero 14 sale del cpu a las 144.455795\n",
      "Programa numero 11 sale del cpu a las 150.455795\n",
      "Programa numero 24 sale del cpu a las 159.455795\n",
      "Programa numero 12 sale del cpu a las 162.455795\n"
     ]
    }
   ],
   "source": [
    "# fijamos la cantidad de programas a simular \n",
    "for i in range(25):\n",
    "    env.process(Programa('Programa numero %d'%i,env, random.expovariate(1/10),CPU))\n",
    "    \n",
    "env.run()"
   ]
  },
  {
   "cell_type": "code",
   "execution_count": 7,
   "id": "0e37a12e",
   "metadata": {},
   "outputs": [],
   "source": [
    "datos = {'25 procesos':lista}\n",
    "\n",
    "dataframe = pd.DataFrame(datos)"
   ]
  },
  {
   "cell_type": "code",
   "execution_count": 8,
   "id": "69a8cc59",
   "metadata": {},
   "outputs": [
    {
     "data": {
      "text/html": [
       "<div>\n",
       "<style scoped>\n",
       "    .dataframe tbody tr th:only-of-type {\n",
       "        vertical-align: middle;\n",
       "    }\n",
       "\n",
       "    .dataframe tbody tr th {\n",
       "        vertical-align: top;\n",
       "    }\n",
       "\n",
       "    .dataframe thead th {\n",
       "        text-align: right;\n",
       "    }\n",
       "</style>\n",
       "<table border=\"1\" class=\"dataframe\">\n",
       "  <thead>\n",
       "    <tr style=\"text-align: right;\">\n",
       "      <th></th>\n",
       "      <th>25 procesos</th>\n",
       "    </tr>\n",
       "  </thead>\n",
       "  <tbody>\n",
       "    <tr>\n",
       "      <th>0</th>\n",
       "      <td>8.000000</td>\n",
       "    </tr>\n",
       "    <tr>\n",
       "      <th>1</th>\n",
       "      <td>17.028884</td>\n",
       "    </tr>\n",
       "    <tr>\n",
       "      <th>2</th>\n",
       "      <td>23.709528</td>\n",
       "    </tr>\n",
       "    <tr>\n",
       "      <th>3</th>\n",
       "      <td>24.147840</td>\n",
       "    </tr>\n",
       "    <tr>\n",
       "      <th>4</th>\n",
       "      <td>33.579019</td>\n",
       "    </tr>\n",
       "    <tr>\n",
       "      <th>5</th>\n",
       "      <td>34.120375</td>\n",
       "    </tr>\n",
       "    <tr>\n",
       "      <th>6</th>\n",
       "      <td>37.484206</td>\n",
       "    </tr>\n",
       "    <tr>\n",
       "      <th>7</th>\n",
       "      <td>39.649501</td>\n",
       "    </tr>\n",
       "    <tr>\n",
       "      <th>8</th>\n",
       "      <td>42.854077</td>\n",
       "    </tr>\n",
       "    <tr>\n",
       "      <th>9</th>\n",
       "      <td>47.352445</td>\n",
       "    </tr>\n",
       "    <tr>\n",
       "      <th>10</th>\n",
       "      <td>55.102149</td>\n",
       "    </tr>\n",
       "    <tr>\n",
       "      <th>11</th>\n",
       "      <td>59.983423</td>\n",
       "    </tr>\n",
       "    <tr>\n",
       "      <th>12</th>\n",
       "      <td>63.826132</td>\n",
       "    </tr>\n",
       "    <tr>\n",
       "      <th>13</th>\n",
       "      <td>69.212803</td>\n",
       "    </tr>\n",
       "    <tr>\n",
       "      <th>14</th>\n",
       "      <td>78.857863</td>\n",
       "    </tr>\n",
       "    <tr>\n",
       "      <th>15</th>\n",
       "      <td>87.613247</td>\n",
       "    </tr>\n",
       "    <tr>\n",
       "      <th>16</th>\n",
       "      <td>95.217576</td>\n",
       "    </tr>\n",
       "    <tr>\n",
       "      <th>17</th>\n",
       "      <td>101.876583</td>\n",
       "    </tr>\n",
       "    <tr>\n",
       "      <th>18</th>\n",
       "      <td>106.852605</td>\n",
       "    </tr>\n",
       "    <tr>\n",
       "      <th>19</th>\n",
       "      <td>106.672135</td>\n",
       "    </tr>\n",
       "    <tr>\n",
       "      <th>20</th>\n",
       "      <td>117.106415</td>\n",
       "    </tr>\n",
       "    <tr>\n",
       "      <th>21</th>\n",
       "      <td>124.783157</td>\n",
       "    </tr>\n",
       "    <tr>\n",
       "      <th>22</th>\n",
       "      <td>119.918598</td>\n",
       "    </tr>\n",
       "    <tr>\n",
       "      <th>23</th>\n",
       "      <td>119.049701</td>\n",
       "    </tr>\n",
       "    <tr>\n",
       "      <th>24</th>\n",
       "      <td>105.741696</td>\n",
       "    </tr>\n",
       "  </tbody>\n",
       "</table>\n",
       "</div>"
      ],
      "text/plain": [
       "    25 procesos\n",
       "0      8.000000\n",
       "1     17.028884\n",
       "2     23.709528\n",
       "3     24.147840\n",
       "4     33.579019\n",
       "5     34.120375\n",
       "6     37.484206\n",
       "7     39.649501\n",
       "8     42.854077\n",
       "9     47.352445\n",
       "10    55.102149\n",
       "11    59.983423\n",
       "12    63.826132\n",
       "13    69.212803\n",
       "14    78.857863\n",
       "15    87.613247\n",
       "16    95.217576\n",
       "17   101.876583\n",
       "18   106.852605\n",
       "19   106.672135\n",
       "20   117.106415\n",
       "21   124.783157\n",
       "22   119.918598\n",
       "23   119.049701\n",
       "24   105.741696"
      ]
     },
     "execution_count": 8,
     "metadata": {},
     "output_type": "execute_result"
    }
   ],
   "source": [
    "dataframe\n"
   ]
  },
  {
   "cell_type": "code",
   "execution_count": 10,
   "id": "1d4ab944",
   "metadata": {},
   "outputs": [
    {
     "data": {
      "text/plain": [
       "68.78959825209033"
      ]
     },
     "execution_count": 10,
     "metadata": {},
     "output_type": "execute_result"
    }
   ],
   "source": [
    "dataframe[\"25 procesos\"].mean()"
   ]
  },
  {
   "cell_type": "code",
   "execution_count": 11,
   "id": "e08b5e47",
   "metadata": {},
   "outputs": [
    {
     "data": {
      "text/plain": [
       "37.19360415080694"
      ]
     },
     "execution_count": 11,
     "metadata": {},
     "output_type": "execute_result"
    }
   ],
   "source": [
    "dataframe[\"25 procesos\"].std()"
   ]
  },
  {
   "cell_type": "code",
   "execution_count": null,
   "id": "8dd9af58",
   "metadata": {},
   "outputs": [],
   "source": []
  }
 ],
 "metadata": {
  "kernelspec": {
   "display_name": "Python 3 (ipykernel)",
   "language": "python",
   "name": "python3"
  },
  "language_info": {
   "codemirror_mode": {
    "name": "ipython",
    "version": 3
   },
   "file_extension": ".py",
   "mimetype": "text/x-python",
   "name": "python",
   "nbconvert_exporter": "python",
   "pygments_lexer": "ipython3",
   "version": "3.9.4"
  }
 },
 "nbformat": 4,
 "nbformat_minor": 5
}
