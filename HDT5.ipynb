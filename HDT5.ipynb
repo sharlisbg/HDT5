{
 "cells": [
  {
   "cell_type": "code",
   "execution_count": 3,
   "id": "546ff457",
   "metadata": {},
   "outputs": [
    {
     "ename": "ModuleNotFoundError",
     "evalue": "No module named 'simpy'",
     "output_type": "error",
     "traceback": [
      "\u001b[1;31m---------------------------------------------------------------------------\u001b[0m",
      "\u001b[1;31mModuleNotFoundError\u001b[0m                       Traceback (most recent call last)",
      "\u001b[1;32mc:\\Users\\Sharis Barrios\\Documents\\GitHub\\Proyecto2\\HDT5\\HDT5.ipynb Celda 1\u001b[0m in \u001b[0;36m<module>\u001b[1;34m\u001b[0m\n\u001b[0;32m      <a href='vscode-notebook-cell:/c%3A/Users/Sharis%20Barrios/Documents/GitHub/Proyecto2/HDT5/HDT5.ipynb#W0sZmlsZQ%3D%3D?line=0'>1</a>\u001b[0m \u001b[39m# importamos simpy\u001b[39;00m\n\u001b[1;32m----> <a href='vscode-notebook-cell:/c%3A/Users/Sharis%20Barrios/Documents/GitHub/Proyecto2/HDT5/HDT5.ipynb#W0sZmlsZQ%3D%3D?line=1'>2</a>\u001b[0m \u001b[39mimport\u001b[39;00m \u001b[39msimpy\u001b[39;00m\n\u001b[0;32m      <a href='vscode-notebook-cell:/c%3A/Users/Sharis%20Barrios/Documents/GitHub/Proyecto2/HDT5/HDT5.ipynb#W0sZmlsZQ%3D%3D?line=2'>3</a>\u001b[0m \u001b[39m# importamos random\u001b[39;00m\n\u001b[0;32m      <a href='vscode-notebook-cell:/c%3A/Users/Sharis%20Barrios/Documents/GitHub/Proyecto2/HDT5/HDT5.ipynb#W0sZmlsZQ%3D%3D?line=3'>4</a>\u001b[0m \u001b[39mimport\u001b[39;00m \u001b[39mrandom\u001b[39;00m\n",
      "\u001b[1;31mModuleNotFoundError\u001b[0m: No module named 'simpy'"
     ]
    }
   ],
   "source": [
    "# importamos simpy\n",
    "import simpy\n",
    "# importamos random\n",
    "import random"
   ]
  },
  {
   "cell_type": "code",
   "execution_count": 4,
   "id": "9ee96764",
   "metadata": {},
   "outputs": [
    {
     "ename": "ModuleNotFoundError",
     "evalue": "No module named 'pandas'",
     "output_type": "error",
     "traceback": [
      "\u001b[1;31m---------------------------------------------------------------------------\u001b[0m",
      "\u001b[1;31mModuleNotFoundError\u001b[0m                       Traceback (most recent call last)",
      "\u001b[1;32mc:\\Users\\Sharis Barrios\\Documents\\GitHub\\Proyecto2\\HDT5\\HDT5.ipynb Celda 2\u001b[0m in \u001b[0;36m<module>\u001b[1;34m\u001b[0m\n\u001b[1;32m----> <a href='vscode-notebook-cell:/c%3A/Users/Sharis%20Barrios/Documents/GitHub/Proyecto2/HDT5/HDT5.ipynb#W1sZmlsZQ%3D%3D?line=0'>1</a>\u001b[0m \u001b[39mimport\u001b[39;00m \u001b[39mpandas\u001b[39;00m \u001b[39mas\u001b[39;00m \u001b[39mpd\u001b[39;00m\n",
      "\u001b[1;31mModuleNotFoundError\u001b[0m: No module named 'pandas'"
     ]
    }
   ],
   "source": [
    "import pandas as pd"
   ]
  },
  {
   "cell_type": "markdown",
   "id": "d8bb6d1a",
   "metadata": {},
   "source": [
    "# Primera Simulación con 25 procesos"
   ]
  },
  {
   "cell_type": "code",
   "execution_count": 3,
   "id": "cfab09f5",
   "metadata": {},
   "outputs": [],
   "source": [
    "# creamos una lista para guardar los datos\n",
    "lista = []"
   ]
  },
  {
   "cell_type": "code",
   "execution_count": null,
   "id": "7b692597",
   "metadata": {},
   "outputs": [],
   "source": [
    "# Creamos las variables a utilizar\n",
    "RANDOM_SEED = 42\n",
    "PROCESOS = 25  # Número de procesos\n",
    "INTERVAL = 1  # Definido para el problema \n",
    "MEMORIA = 100 # Cpacidad de memoria de la RAM\n",
    "CAPACIDAD = 1 # Capacidad de CPU \n",
    "INSTRUCCIONES_POR_TIEMPO = 3 # Instrucciones en el CPU "
   ]
  },
  {
   "cell_type": "code",
   "execution_count": null,
   "id": "5e2ad5ae",
   "metadata": {},
   "outputs": [
    {
     "ename": "",
     "evalue": "",
     "output_type": "error",
     "traceback": [
      "\u001b[1;31mLa ejecución de celdas con 'c:\\Users\\Sharis Barrios\\AppData\\Local\\Microsoft\\WindowsApps\\python3.9.exe' requiere el paquete ipykernel.\n",
      "\u001b[1;31mRun the following command to install 'ipykernel' into the Python environment. \n",
      "\u001b[1;31mCommand: '\"c:/Users/Sharis Barrios/AppData/Local/Microsoft/WindowsApps/python3.9.exe\" -m pip install ipykernel -U --user --force-reinstall'"
     ]
    }
   ],
   "source": [
    "# Definimos una clase para el proceso que al final es un programa que entra al sistema\n",
    "class Programa:\n",
    "    def __init__(self, env, nombre, memoria, instrucciones):\n",
    "        self.env = env\n",
    "        self.memoria = memoria\n",
    "        self.nombre = nombre\n",
    "        self.instrucciones = instrucciones\n",
    "        self.estado = 'new'\n",
    "        self.tiempo_espera = 0\n",
    "        self.tiempo_cpu = 0\n",
    "    \n",
    "\n",
    "# Definimos los procesos tanto sus instrucciones como el espacio de memoria que se generara\n",
    "def procesador(env, memoria_ram):\n",
    "    while True:\n",
    "        for i in range(PROCESOS):\n",
    "            # damos un tiempo random antes de llegar al cpu \n",
    "            yield env.timeout(random.expovariate(1/INTERVAL)) #Para retonar consecutivamente valores\n",
    "            # generamos el espacio en la memoria  ram que tomará el proceso\n",
    "            memoria = random.randint(1,10)\n",
    "            nombre = i\n",
    "            # generamos la cantidad de instrucciones totales a realizar por el process \n",
    "            instrucciones = random.randint(1,10)\n",
    "            print('El proceso %g tiene un espacio de memoria de %f y tiene %d instrucciones'%(nombre, memoria,instrucciones))\n",
    "            # Iniciamos a generar procesos\n",
    "            proceso = Programa(env, nombre, memoria, instrucciones)\n",
    "            env.process(interaccion(env, proceso, memoria_ram))\n",
    "\n",
    "# Se generara la interaccion de new, ready y el paso al CPU\n",
    "def interaccion(env, process, memoria_ram):\n",
    "    process.estado = 'new'\n",
    "    print('El estado del proceso %g es '%(process.nombre)+ process.estado + ' a las %g '%(env.now))\n",
    "    with memoria_ram.get(process.memoria):\n",
    "        yield memoria_ram.get(process.memoria)\n",
    "        process.estado = 'ready'\n",
    "        print('El estado del proceso %g es '%(process.nombre)+ process.estado + ' a las %g '%(env.now))\n",
    "        env.process(cpu_proceso(env, process))\n",
    "    memoria_ram.put(process.memoria)\n",
    "    process.estado = 'terminated'\n",
    "\n",
    "# Se define el funcionamiento del proceso del CPU\n",
    "def cpu_proceso(env, process):\n",
    "    with cpu.request() as req:\n",
    "        yield req\n",
    "        process.estado = 'running'\n",
    "        print('El estado del proceso %g es '%(process.nombre)+ process.estado + ' a las %g'%(env.now))\n",
    "        while process.instrucciones > 0:\n",
    "            yield env.timeout(1)\n",
    "            process.instrucciones -= INSTRUCCIONES_POR_TIEMPO\n",
    "            process.tiempo_cpu += 1\n",
    "            if process.instrucciones <= 0:\n",
    "                break\n",
    "            if process.tiempo_cpu % 3 == 0:\n",
    "                if random.randint(1, 2) == 1:\n",
    "                    process.estado = 'waiting'\n",
    "                    print('El estado del proceso %g es '%(process.nombre)+ process.estado + ' a las %g '%(env.now))\n",
    "                    env.process(io_proceso(env, process))\n",
    "                    yield env.timeout(1)\n",
    "                    process.tiempo_espera += 1\n",
    "                else:\n",
    "                    process.estado = 'ready'\n",
    "                    print('El estado del proceso %g es '%(process.nombre)+ process.estado + ' a las %g '%(env.now))\n",
    "                    env.process(cpu_proceso(env, process))\n",
    "        process.estado = 'terminated'\n",
    "        print('El proceso %g termino con exito '%(process.nombre) + ' a las %g'%(env.now))\n",
    "\n",
    "# Definimos el procedimiento para las operaciones de I/O\n",
    "def io_proceso(env, process):\n",
    "    print('El proceso %g entro a los procesos I/O '%(process.nombre)+' a las %g'%(env.now))\n",
    "    yield env.timeout(random.randint(1, 2))\n",
    "    process.estado = 'ready'\n",
    "    print('El estado del proceso %g es '%(process.nombre)+ process.estado + ' a las %g '%(env.now))\n",
    "    env.process(cpu_proceso(env, process))"
   ]
  },
  {
   "cell_type": "code",
   "execution_count": 5,
   "id": "43fc9718",
   "metadata": {},
   "outputs": [],
   "source": [
    "# creamos el ambiente \n",
    "env = simpy.Environment()\n",
    "random.seed(RANDOM_SEED)\n",
    "cpu = simpy.Resource(env, capacity = CAPACIDAD)\n",
    "memoria_ram = simpy.Container(env, init = MEMORIA , capacity= MEMORIA)\n",
    "env.process(procesador(env, memoria_ram )) \n",
    "env.run(until= PROCESOS)"
   ]
  },
  {
   "cell_type": "code",
   "execution_count": 6,
   "id": "3ea06a32",
   "metadata": {},
   "outputs": [
    {
     "name": "stdout",
     "output_type": "stream",
     "text": [
      "Programa numero 13 llega a las 0.455795 y requiere 8 instrucciones\n",
      "Programa numero 22 llega a las 1.426911 y requiere 10 instrucciones\n",
      "Programa numero 7 llega a las 1.746267 y requiere 7 instrucciones\n",
      "Programa numero 3 llega a las 2.307955 y requiere 1 instrucciones\n",
      "Programa numero 10 llega a las 2.876776 y requiere 10 instrucciones\n",
      "Programa numero 17 llega a las 3.335420 y requiere 1 instrucciones\n",
      "Programa numero 9 llega a las 3.971589 y requiere 4 instrucciones\n",
      "Programa numero 16 llega a las 4.806295 y requiere 3 instrucciones\n",
      "Programa numero 1 llega a las 5.601718 y requiere 4 instrucciones\n",
      "Programa numero 19 llega a las 6.103351 y requiere 5 instrucciones\n",
      "Programa numero 8 llega a las 7.353646 y requiere 9 instrucciones\n",
      "Programa numero 13 sale del cpu a las 8.455795\n",
      "Programa numero 0 llega a las 8.472372 y requiere 6 instrucciones\n",
      "Programa numero 2 llega a las 8.629663 y requiere 4 instrucciones\n",
      "Programa numero 15 llega a las 9.242992 y requiere 6 instrucciones\n",
      "Programa numero 6 llega a las 10.597932 y requiere 11 instrucciones\n",
      "Programa numero 21 llega a las 10.842548 y requiere 9 instrucciones\n",
      "Programa numero 18 llega a las 11.238219 y requiere 8 instrucciones\n",
      "Programa numero 20 llega a las 11.579213 y requiere 7 instrucciones\n",
      "Programa numero 23 llega a las 14.603191 y requiere 8 instrucciones\n",
      "Programa numero 4 llega a las 16.783661 y requiere 2 instrucciones\n",
      "Programa numero 5 llega a las 17.349381 y requiere 11 instrucciones\n",
      "Programa numero 22 sale del cpu a las 18.455795\n",
      "Programa numero 14 llega a las 19.672638 y requiere 10 instrucciones\n",
      "Programa numero 7 sale del cpu a las 25.455795\n",
      "Programa numero 3 sale del cpu a las 26.455795\n",
      "Programa numero 11 llega a las 30.537197 y requiere 6 instrucciones\n",
      "Programa numero 10 sale del cpu a las 36.455795\n",
      "Programa numero 17 sale del cpu a las 37.455795\n",
      "Programa numero 24 llega a las 40.406094 y requiere 9 instrucciones\n",
      "Programa numero 9 sale del cpu a las 41.455795\n",
      "Programa numero 16 sale del cpu a las 44.455795\n",
      "Programa numero 1 sale del cpu a las 48.455795\n",
      "Programa numero 19 sale del cpu a las 53.455795\n",
      "Programa numero 12 llega a las 56.714099 y requiere 3 instrucciones\n",
      "Programa numero 8 sale del cpu a las 62.455795\n",
      "Programa numero 0 sale del cpu a las 68.455795\n",
      "Programa numero 2 sale del cpu a las 72.455795\n",
      "Programa numero 15 sale del cpu a las 78.455795\n",
      "Programa numero 6 sale del cpu a las 89.455795\n",
      "Programa numero 21 sale del cpu a las 98.455795\n",
      "Programa numero 18 sale del cpu a las 106.455795\n",
      "Programa numero 20 sale del cpu a las 113.455795\n",
      "Programa numero 23 sale del cpu a las 121.455795\n",
      "Programa numero 4 sale del cpu a las 123.455795\n",
      "Programa numero 5 sale del cpu a las 134.455795\n",
      "Programa numero 14 sale del cpu a las 144.455795\n",
      "Programa numero 11 sale del cpu a las 150.455795\n",
      "Programa numero 24 sale del cpu a las 159.455795\n",
      "Programa numero 12 sale del cpu a las 162.455795\n"
     ]
    }
   ],
   "source": [
    "# fijamos la cantidad de processs a simular \n",
    "for i in range(25):\n",
    "    env.process(process('process numero %d'%i,env, random.expovariate(1/10),CPU))\n",
    "    \n",
    "env.run()"
   ]
  },
  {
   "cell_type": "code",
   "execution_count": 7,
   "id": "0e37a12e",
   "metadata": {},
   "outputs": [],
   "source": [
    "datos = {'25 procesos':lista}\n",
    "\n",
    "dataframe = pd.DataFrame(datos)"
   ]
  },
  {
   "cell_type": "code",
   "execution_count": 8,
   "id": "69a8cc59",
   "metadata": {},
   "outputs": [
    {
     "data": {
      "text/html": [
       "<div>\n",
       "<style scoped>\n",
       "    .dataframe tbody tr th:only-of-type {\n",
       "        vertical-align: middle;\n",
       "    }\n",
       "\n",
       "    .dataframe tbody tr th {\n",
       "        vertical-align: top;\n",
       "    }\n",
       "\n",
       "    .dataframe thead th {\n",
       "        text-align: right;\n",
       "    }\n",
       "</style>\n",
       "<table border=\"1\" class=\"dataframe\">\n",
       "  <thead>\n",
       "    <tr style=\"text-align: right;\">\n",
       "      <th></th>\n",
       "      <th>25 procesos</th>\n",
       "    </tr>\n",
       "  </thead>\n",
       "  <tbody>\n",
       "    <tr>\n",
       "      <th>0</th>\n",
       "      <td>8.000000</td>\n",
       "    </tr>\n",
       "    <tr>\n",
       "      <th>1</th>\n",
       "      <td>17.028884</td>\n",
       "    </tr>\n",
       "    <tr>\n",
       "      <th>2</th>\n",
       "      <td>23.709528</td>\n",
       "    </tr>\n",
       "    <tr>\n",
       "      <th>3</th>\n",
       "      <td>24.147840</td>\n",
       "    </tr>\n",
       "    <tr>\n",
       "      <th>4</th>\n",
       "      <td>33.579019</td>\n",
       "    </tr>\n",
       "    <tr>\n",
       "      <th>5</th>\n",
       "      <td>34.120375</td>\n",
       "    </tr>\n",
       "    <tr>\n",
       "      <th>6</th>\n",
       "      <td>37.484206</td>\n",
       "    </tr>\n",
       "    <tr>\n",
       "      <th>7</th>\n",
       "      <td>39.649501</td>\n",
       "    </tr>\n",
       "    <tr>\n",
       "      <th>8</th>\n",
       "      <td>42.854077</td>\n",
       "    </tr>\n",
       "    <tr>\n",
       "      <th>9</th>\n",
       "      <td>47.352445</td>\n",
       "    </tr>\n",
       "    <tr>\n",
       "      <th>10</th>\n",
       "      <td>55.102149</td>\n",
       "    </tr>\n",
       "    <tr>\n",
       "      <th>11</th>\n",
       "      <td>59.983423</td>\n",
       "    </tr>\n",
       "    <tr>\n",
       "      <th>12</th>\n",
       "      <td>63.826132</td>\n",
       "    </tr>\n",
       "    <tr>\n",
       "      <th>13</th>\n",
       "      <td>69.212803</td>\n",
       "    </tr>\n",
       "    <tr>\n",
       "      <th>14</th>\n",
       "      <td>78.857863</td>\n",
       "    </tr>\n",
       "    <tr>\n",
       "      <th>15</th>\n",
       "      <td>87.613247</td>\n",
       "    </tr>\n",
       "    <tr>\n",
       "      <th>16</th>\n",
       "      <td>95.217576</td>\n",
       "    </tr>\n",
       "    <tr>\n",
       "      <th>17</th>\n",
       "      <td>101.876583</td>\n",
       "    </tr>\n",
       "    <tr>\n",
       "      <th>18</th>\n",
       "      <td>106.852605</td>\n",
       "    </tr>\n",
       "    <tr>\n",
       "      <th>19</th>\n",
       "      <td>106.672135</td>\n",
       "    </tr>\n",
       "    <tr>\n",
       "      <th>20</th>\n",
       "      <td>117.106415</td>\n",
       "    </tr>\n",
       "    <tr>\n",
       "      <th>21</th>\n",
       "      <td>124.783157</td>\n",
       "    </tr>\n",
       "    <tr>\n",
       "      <th>22</th>\n",
       "      <td>119.918598</td>\n",
       "    </tr>\n",
       "    <tr>\n",
       "      <th>23</th>\n",
       "      <td>119.049701</td>\n",
       "    </tr>\n",
       "    <tr>\n",
       "      <th>24</th>\n",
       "      <td>105.741696</td>\n",
       "    </tr>\n",
       "  </tbody>\n",
       "</table>\n",
       "</div>"
      ],
      "text/plain": [
       "    25 procesos\n",
       "0      8.000000\n",
       "1     17.028884\n",
       "2     23.709528\n",
       "3     24.147840\n",
       "4     33.579019\n",
       "5     34.120375\n",
       "6     37.484206\n",
       "7     39.649501\n",
       "8     42.854077\n",
       "9     47.352445\n",
       "10    55.102149\n",
       "11    59.983423\n",
       "12    63.826132\n",
       "13    69.212803\n",
       "14    78.857863\n",
       "15    87.613247\n",
       "16    95.217576\n",
       "17   101.876583\n",
       "18   106.852605\n",
       "19   106.672135\n",
       "20   117.106415\n",
       "21   124.783157\n",
       "22   119.918598\n",
       "23   119.049701\n",
       "24   105.741696"
      ]
     },
     "execution_count": 8,
     "metadata": {},
     "output_type": "execute_result"
    }
   ],
   "source": [
    "dataframe\n"
   ]
  },
  {
   "cell_type": "code",
   "execution_count": 10,
   "id": "1d4ab944",
   "metadata": {},
   "outputs": [
    {
     "data": {
      "text/plain": [
       "68.78959825209033"
      ]
     },
     "execution_count": 10,
     "metadata": {},
     "output_type": "execute_result"
    }
   ],
   "source": [
    "dataframe[\"25 procesos\"].mean()"
   ]
  },
  {
   "cell_type": "code",
   "execution_count": 11,
   "id": "e08b5e47",
   "metadata": {},
   "outputs": [
    {
     "data": {
      "text/plain": [
       "37.19360415080694"
      ]
     },
     "execution_count": 11,
     "metadata": {},
     "output_type": "execute_result"
    }
   ],
   "source": [
    "dataframe[\"25 procesos\"].std()"
   ]
  },
  {
   "cell_type": "code",
   "execution_count": null,
   "id": "8dd9af58",
   "metadata": {},
   "outputs": [],
   "source": []
  }
 ],
 "metadata": {
  "kernelspec": {
   "display_name": "Python 3",
   "language": "python",
   "name": "python3"
  },
  "language_info": {
   "codemirror_mode": {
    "name": "ipython",
    "version": 3
   },
   "file_extension": ".py",
   "mimetype": "text/x-python",
   "name": "python",
   "nbconvert_exporter": "python",
   "pygments_lexer": "ipython3",
   "version": "3.9.10"
  },
  "vscode": {
   "interpreter": {
    "hash": "728621563ffa59fde5262be8eb1472720c6fa0a27b063e229254dd2c3de06ea4"
   }
  }
 },
 "nbformat": 4,
 "nbformat_minor": 5
}
